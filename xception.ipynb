{
 "cells": [
  {
   "cell_type": "code",
   "execution_count": 31,
   "id": "5db47ec1-b5fa-4c36-b738-1583cad050fc",
   "metadata": {},
   "outputs": [
    {
     "name": "stdout",
     "output_type": "stream",
     "text": [
      "Epoch 1/10\n",
      "\u001b[1m489/489\u001b[0m \u001b[32m━━━━━━━━━━━━━━━━━━━━\u001b[0m\u001b[37m\u001b[0m \u001b[1m786s\u001b[0m 2s/step - accuracy: 0.1800 - loss: 2.8175 - val_accuracy: 0.1442 - val_loss: 2.9079\n",
      "Epoch 2/10\n",
      "\u001b[1m489/489\u001b[0m \u001b[32m━━━━━━━━━━━━━━━━━━━━\u001b[0m\u001b[37m\u001b[0m \u001b[1m789s\u001b[0m 2s/step - accuracy: 0.4353 - loss: 1.9100 - val_accuracy: 0.4133 - val_loss: 2.0450\n",
      "Epoch 3/10\n",
      "\u001b[1m489/489\u001b[0m \u001b[32m━━━━━━━━━━━━━━━━━━━━\u001b[0m\u001b[37m\u001b[0m \u001b[1m658s\u001b[0m 1s/step - accuracy: 0.6369 - loss: 1.2442 - val_accuracy: 0.4568 - val_loss: 1.9535\n",
      "Epoch 4/10\n",
      "\u001b[1m489/489\u001b[0m \u001b[32m━━━━━━━━━━━━━━━━━━━━\u001b[0m\u001b[37m\u001b[0m \u001b[1m653s\u001b[0m 1s/step - accuracy: 0.7966 - loss: 0.7324 - val_accuracy: 0.4627 - val_loss: 2.1616\n",
      "Epoch 5/10\n",
      "\u001b[1m489/489\u001b[0m \u001b[32m━━━━━━━━━━━━━━━━━━━━\u001b[0m\u001b[37m\u001b[0m \u001b[1m652s\u001b[0m 1s/step - accuracy: 0.8848 - loss: 0.4036 - val_accuracy: 0.4721 - val_loss: 2.2730\n",
      "Epoch 6/10\n",
      "\u001b[1m489/489\u001b[0m \u001b[32m━━━━━━━━━━━━━━━━━━━━\u001b[0m\u001b[37m\u001b[0m \u001b[1m653s\u001b[0m 1s/step - accuracy: 0.9316 - loss: 0.2416 - val_accuracy: 0.4760 - val_loss: 2.3710\n",
      "Epoch 7/10\n",
      "\u001b[1m489/489\u001b[0m \u001b[32m━━━━━━━━━━━━━━━━━━━━\u001b[0m\u001b[37m\u001b[0m \u001b[1m650s\u001b[0m 1s/step - accuracy: 0.9480 - loss: 0.1708 - val_accuracy: 0.4532 - val_loss: 2.7848\n",
      "Epoch 8/10\n",
      "\u001b[1m489/489\u001b[0m \u001b[32m━━━━━━━━━━━━━━━━━━━━\u001b[0m\u001b[37m\u001b[0m \u001b[1m652s\u001b[0m 1s/step - accuracy: 0.9529 - loss: 0.1480 - val_accuracy: 0.4693 - val_loss: 2.6541\n",
      "Epoch 9/10\n",
      "\u001b[1m489/489\u001b[0m \u001b[32m━━━━━━━━━━━━━━━━━━━━\u001b[0m\u001b[37m\u001b[0m \u001b[1m650s\u001b[0m 1s/step - accuracy: 0.9496 - loss: 0.1479 - val_accuracy: 0.4716 - val_loss: 2.7178\n",
      "Epoch 10/10\n",
      "\u001b[1m489/489\u001b[0m \u001b[32m━━━━━━━━━━━━━━━━━━━━\u001b[0m\u001b[37m\u001b[0m \u001b[1m651s\u001b[0m 1s/step - accuracy: 0.9503 - loss: 0.1360 - val_accuracy: 0.4826 - val_loss: 2.7830\n"
     ]
    },
    {
     "data": {
      "text/plain": [
       "<keras.src.callbacks.history.History at 0x19340fc0cb0>"
      ]
     },
     "execution_count": 31,
     "metadata": {},
     "output_type": "execute_result"
    }
   ],
   "source": [
    "import numpy as np\n",
    "import tensorflow as tf\n",
    "from tensorflow.keras.applications import Xception\n",
    "from tensorflow.keras.layers import Dense, GlobalAveragePooling2D\n",
    "from tensorflow.keras.models import Model\n",
    "from tensorflow.keras.optimizers import Adam\n",
    "from tensorflow.keras.utils import to_categorical\n",
    "from sklearn.model_selection import train_test_split\n",
    "from sklearn.preprocessing import LabelEncoder\n",
    "\n",
    "# Load data\n",
    "data = np.load('image_data.npz')\n",
    "X = data['images']  # Shape: (num_samples, 64, 64, 3)\n",
    "y = data['labels']\n",
    "\n",
    "# Encode labels\n",
    "label_encoder = LabelEncoder()\n",
    "y = label_encoder.fit_transform(y)  \n",
    "y_categorical = to_categorical(y, num_classes=23)  # One-hot encoding for 23 classes\n",
    "\n",
    "# Train-Test Split\n",
    "X_train, X_test, y_train, y_test = train_test_split(X, y_categorical, test_size=0.2, random_state=42)\n",
    "\n",
    "# Resize images to match Xception’s requirement (71x71)\n",
    "X_train_resized = tf.image.resize(X_train, (71, 71)).numpy()\n",
    "X_test_resized = tf.image.resize(X_test, (71, 71)).numpy()\n",
    "\n",
    "# Normalize images\n",
    "X_train_resized = X_train_resized.astype(np.float32) / 255.0\n",
    "X_test_resized = X_test_resized.astype(np.float32) / 255.0\n",
    "\n",
    "# Function to create the Xception model with chosen best parameters\n",
    "def create_model():\n",
    "    base_model = Xception(weights='imagenet', include_top=False, input_shape=(71, 71, 3))\n",
    "    x = GlobalAveragePooling2D()(base_model.output)  # Better feature extraction\n",
    "    x = Dense(128, activation='relu')(x)  # 128 dense units\n",
    "    output = Dense(23, activation='softmax')(x)  # 23 classes\n",
    "    model = Model(inputs=base_model.input, outputs=output)\n",
    "    \n",
    "    model.compile(optimizer=Adam(learning_rate=0.0001),  # A smaller learning rate for fine-tuning\n",
    "                  loss='categorical_crossentropy',\n",
    "                  metrics=['accuracy'])\n",
    "    return model\n",
    "\n",
    "# Create and train the model\n",
    "model = create_model()\n",
    "\n",
    "# Train the model with 32 batch size and 10 epochs\n",
    "model.fit(X_train_resized, y_train, batch_size=32, epochs=10, validation_data=(X_test_resized, y_test))\n"
   ]
  },
  {
   "cell_type": "code",
   "execution_count": 32,
   "id": "3ed7c528-7186-45d7-8edb-efa228afb495",
   "metadata": {},
   "outputs": [
    {
     "name": "stdout",
     "output_type": "stream",
     "text": [
      "\u001b[1m123/123\u001b[0m \u001b[32m━━━━━━━━━━━━━━━━━━━━\u001b[0m\u001b[37m\u001b[0m \u001b[1m20s\u001b[0m 159ms/step - accuracy: 0.4808 - loss: 2.7886\n",
      "Test Loss: 2.7830\n",
      "Test Accuracy: 48.2618%\n"
     ]
    }
   ],
   "source": [
    "# Evaluate the model on the test set\n",
    "loss, accuracy = model.evaluate(X_test_resized, y_test)\n",
    "print(f\"Test Loss: {loss:.4f}\")\n",
    "print(f\"Test Accuracy: {accuracy:.4%}\")\n"
   ]
  },
  {
   "cell_type": "code",
   "execution_count": null,
   "id": "1695e136-72dd-4cc5-aab9-7cdcf55b5c3b",
   "metadata": {},
   "outputs": [],
   "source": []
  }
 ],
 "metadata": {
  "kernelspec": {
   "display_name": "Python 3 (ipykernel)",
   "language": "python",
   "name": "python3"
  },
  "language_info": {
   "codemirror_mode": {
    "name": "ipython",
    "version": 3
   },
   "file_extension": ".py",
   "mimetype": "text/x-python",
   "name": "python",
   "nbconvert_exporter": "python",
   "pygments_lexer": "ipython3",
   "version": "3.12.4"
  }
 },
 "nbformat": 4,
 "nbformat_minor": 5
}
