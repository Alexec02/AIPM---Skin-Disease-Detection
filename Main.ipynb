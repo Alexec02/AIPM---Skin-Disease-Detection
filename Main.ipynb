{
 "cells": [
  {
   "cell_type": "code",
   "execution_count": 5,
   "id": "7552daf2-8c64-4dee-abd0-5c56c72b3758",
   "metadata": {},
   "outputs": [],
   "source": [
    "# Import necessary modules\n",
    "import pandas as pd\n",
    "from tensorflow.keras.models import load_model\n",
    "from sklearn.model_selection import train_test_split\n",
    "from tensorflow.keras.utils import to_categorical\n",
    "from preprocess import process_dataset, save_metadata_to_csv, metadata\n",
    "from cnn_model import create_cnn_model\n",
    "import numpy as np"
   ]
  },
  {
   "cell_type": "code",
   "execution_count": 6,
   "id": "f36a9ca9-d458-4a32-9a6e-f3ab828d85ce",
   "metadata": {},
   "outputs": [],
   "source": [
    "# Define your dataset path\n",
    "# dataset_path = r\"C:\\Users\\Alex\\Desktop\\AIPM\\dataset\"  # Update with the correct path\n",
    "# Define image size for preprocessing\n",
    "# image_size = (64, 64)\n",
    "\n",
    "# # Create an ImageDataGenerator for data augmentation\n",
    "# datagen = ImageDataGenerator(\n",
    "#     rescale=1./255,  # Normalize pixel values to [0, 1]\n",
    "#     rotation_range=30,  # Random rotation between -30 and 30 degrees\n",
    "#     horizontal_flip=True,  # Random horizontal flip\n",
    "# )\n",
    "# # Process the dataset\n",
    "# process_dataset(dataset_path, datagen)\n",
    "\n",
    "# # Save metadata to CSV (optional step if you want to save it)\n",
    "# save_metadata_to_csv(metadata)"
   ]
  },
  {
   "cell_type": "code",
   "execution_count": 8,
   "id": "227a01c5-c4dc-4c5a-92a0-3309f87d0967",
   "metadata": {},
   "outputs": [
    {
     "name": "stdout",
     "output_type": "stream",
     "text": [
      "                     label                                         image_data\n",
      "0  Acne and Rosacea Photos  [[[0.64313725 0.50588235 0.48235294]\\r\\n  [0.6...\n",
      "1  Acne and Rosacea Photos  [[[0.00240466 0.00185524 0.00181051]\\r\\n  [0.0...\n",
      "2  Acne and Rosacea Photos  [[[0.63529412 0.50588235 0.4745098 ]\\r\\n  [0.6...\n",
      "3  Acne and Rosacea Photos  [[[0.00135671 0.00097337 0.00091185]\\r\\n  [0.0...\n",
      "4  Acne and Rosacea Photos  [[[0.81176471 0.58431373 0.56862745]\\r\\n  [0.8...\n"
     ]
    }
   ],
   "source": [
    "# Load the image metadata from CSV\n",
    "metadata_df = pd.read_csv('image_metadata.csv')\n",
    "\n",
    "# You can now access your image metadata for further processing\n",
    "print(metadata_df.head())\n",
    "\n",
    "# Prepare your data (image_data and labels)\n",
    "X = np.array(metadata_df['image_data'].tolist())  # Image data\n",
    "y = pd.get_dummies(metadata_df['label']).values  # One-hot encoding of labels\n",
    "\n",
    "# Split the dataset into training and testing sets\n",
    "X_train, X_test, y_train, y_test = train_test_split(X, y, test_size=0.2, random_state=42)\n"
   ]
  },
  {
   "cell_type": "code",
   "execution_count": 10,
   "id": "9714733e-0733-4928-84a0-53a04823ddf0",
   "metadata": {},
   "outputs": [
    {
     "ename": "ValueError",
     "evalue": "Invalid dtype: str59680",
     "output_type": "error",
     "traceback": [
      "\u001b[1;31m---------------------------------------------------------------------------\u001b[0m",
      "\u001b[1;31mValueError\u001b[0m                                Traceback (most recent call last)",
      "Cell \u001b[1;32mIn[10], line 5\u001b[0m\n\u001b[0;32m      2\u001b[0m model \u001b[38;5;241m=\u001b[39m create_cnn_model(input_shape\u001b[38;5;241m=\u001b[39m(\u001b[38;5;241m64\u001b[39m, \u001b[38;5;241m64\u001b[39m, \u001b[38;5;241m3\u001b[39m), num_classes\u001b[38;5;241m=\u001b[39my\u001b[38;5;241m.\u001b[39mshape[\u001b[38;5;241m1\u001b[39m])\n\u001b[0;32m      4\u001b[0m \u001b[38;5;66;03m# Training model\u001b[39;00m\n\u001b[1;32m----> 5\u001b[0m model\u001b[38;5;241m.\u001b[39mfit(X_train, y_train, epochs\u001b[38;5;241m=\u001b[39m\u001b[38;5;241m10\u001b[39m, batch_size\u001b[38;5;241m=\u001b[39m\u001b[38;5;241m32\u001b[39m, validation_data\u001b[38;5;241m=\u001b[39m(X_test, y_test))\n\u001b[0;32m      7\u001b[0m \u001b[38;5;66;03m# Evaluate model on the test set\u001b[39;00m\n\u001b[0;32m      8\u001b[0m test_loss, test_acc \u001b[38;5;241m=\u001b[39m model\u001b[38;5;241m.\u001b[39mevaluate(X_test, y_test)\n",
      "File \u001b[1;32m~\\miniconda3\\Lib\\site-packages\\keras\\src\\utils\\traceback_utils.py:122\u001b[0m, in \u001b[0;36mfilter_traceback.<locals>.error_handler\u001b[1;34m(*args, **kwargs)\u001b[0m\n\u001b[0;32m    119\u001b[0m     filtered_tb \u001b[38;5;241m=\u001b[39m _process_traceback_frames(e\u001b[38;5;241m.\u001b[39m__traceback__)\n\u001b[0;32m    120\u001b[0m     \u001b[38;5;66;03m# To get the full stack trace, call:\u001b[39;00m\n\u001b[0;32m    121\u001b[0m     \u001b[38;5;66;03m# `keras.config.disable_traceback_filtering()`\u001b[39;00m\n\u001b[1;32m--> 122\u001b[0m     \u001b[38;5;28;01mraise\u001b[39;00m e\u001b[38;5;241m.\u001b[39mwith_traceback(filtered_tb) \u001b[38;5;28;01mfrom\u001b[39;00m \u001b[38;5;28;01mNone\u001b[39;00m\n\u001b[0;32m    123\u001b[0m \u001b[38;5;28;01mfinally\u001b[39;00m:\n\u001b[0;32m    124\u001b[0m     \u001b[38;5;28;01mdel\u001b[39;00m filtered_tb\n",
      "File \u001b[1;32m~\\miniconda3\\Lib\\site-packages\\optree\\ops.py:766\u001b[0m, in \u001b[0;36mtree_map\u001b[1;34m(func, tree, is_leaf, none_is_leaf, namespace, *rests)\u001b[0m\n\u001b[0;32m    764\u001b[0m leaves, treespec \u001b[38;5;241m=\u001b[39m _C\u001b[38;5;241m.\u001b[39mflatten(tree, is_leaf, none_is_leaf, namespace)\n\u001b[0;32m    765\u001b[0m flat_args \u001b[38;5;241m=\u001b[39m [leaves] \u001b[38;5;241m+\u001b[39m [treespec\u001b[38;5;241m.\u001b[39mflatten_up_to(r) \u001b[38;5;28;01mfor\u001b[39;00m r \u001b[38;5;129;01min\u001b[39;00m rests]\n\u001b[1;32m--> 766\u001b[0m \u001b[38;5;28;01mreturn\u001b[39;00m treespec\u001b[38;5;241m.\u001b[39munflatten(\u001b[38;5;28mmap\u001b[39m(func, \u001b[38;5;241m*\u001b[39mflat_args))\n",
      "\u001b[1;31mValueError\u001b[0m: Invalid dtype: str59680"
     ]
    }
   ],
   "source": [
    "# Define the CNN model\n",
    "model = create_cnn_model(input_shape=(64, 64, 3), num_classes=y.shape[1])\n",
    "\n",
    "# Training model\n",
    "model.fit(X_train, y_train, epochs=10, batch_size=32, validation_data=(X_test, y_test))\n",
    "\n",
    "# Evaluate model on the test set\n",
    "test_loss, test_acc = model.evaluate(X_test, y_test)\n",
    "print(f\"Test accuracy: {test_acc}\")\n"
   ]
  },
  {
   "cell_type": "code",
   "execution_count": 3,
   "id": "0efb3341-f9da-4429-af50-8f865735af97",
   "metadata": {},
   "outputs": [
    {
     "name": "stdout",
     "output_type": "stream",
     "text": [
      "<U1865\n",
      "float64\n",
      "<U1865\n",
      "float64\n"
     ]
    }
   ],
   "source": [
    "print(X_train.dtype)\n",
    "print(y_train.dtype)\n",
    "print(X_test.dtype)\n",
    "print(y_test.dtype)\n"
   ]
  },
  {
   "cell_type": "code",
   "execution_count": null,
   "id": "fddcff9b-91b9-43e4-93b1-e43c0be6ed93",
   "metadata": {},
   "outputs": [],
   "source": []
  }
 ],
 "metadata": {
  "kernelspec": {
   "display_name": "Python 3 (ipykernel)",
   "language": "python",
   "name": "python3"
  },
  "language_info": {
   "codemirror_mode": {
    "name": "ipython",
    "version": 3
   },
   "file_extension": ".py",
   "mimetype": "text/x-python",
   "name": "python",
   "nbconvert_exporter": "python",
   "pygments_lexer": "ipython3",
   "version": "3.12.4"
  }
 },
 "nbformat": 4,
 "nbformat_minor": 5
}
